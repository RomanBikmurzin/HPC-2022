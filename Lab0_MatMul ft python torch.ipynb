{
 "cells": [
  {
   "cell_type": "code",
   "execution_count": 1,
   "metadata": {},
   "outputs": [
    {
     "name": "stdout",
     "output_type": "stream",
     "text": [
      " cuda device\n"
     ]
    }
   ],
   "source": [
    "import torch\n",
    "import torchvision\n",
    "import gc \n",
    "if torch.cuda.is_available():\n",
    "    device = torch.device(\"cuda\")\n",
    "else:\n",
    "    device = torch.device(\"cpu\")\n",
    "print(\"\", device, \"device\")\n",
    "\n",
    "gc.collect() \n",
    "torch.cuda.empty_cache()"
   ]
  },
  {
   "cell_type": "code",
   "execution_count": 2,
   "metadata": {
    "scrolled": true
   },
   "outputs": [
    {
     "name": "stdout",
     "output_type": "stream",
     "text": [
      ">>>>>>>>>>>>>>>>> CPU SPEED <<<<<<<<<<<<<<<<<<<\n",
      "5.211079359054565\n",
      "varify device: cpu\n",
      ">>>>>>>>>>>>>>>>> GPU SPEED <<<<<<<<<<<<<<<<<<<\n",
      "1.2246272563934326\n",
      "varify device cuda:0\n",
      ">>>>>>>>>>>>>>>>> GPU SPEED <<<<<<<<<<<<<<<<<<<\n",
      "0.41588711738586426\n",
      "varify device cuda:0\n",
      ">>>>>>>>>>>>>>>>> GPU SPEED <<<<<<<<<<<<<<<<<<<\n",
      "0.4188196659088135\n",
      "varify device cuda:0\n"
     ]
    }
   ],
   "source": [
    "import time\n",
    "matrix_size = 100*100\n",
    "x = torch.randn(matrix_size, matrix_size)\n",
    "y = torch.randn(matrix_size, matrix_size)\n",
    "\n",
    "print(\">>>>>>>>>>>>>>>>> CPU SPEED <<<<<<<<<<<<<<<<<<<\")\n",
    "start = time.time()\n",
    "result = torch.matmul(x,y)\n",
    "print(time.time() - start)\n",
    "print(\"varify device:\", result.device)\n",
    "\n",
    "x_gpu = x.to(device)\n",
    "y_gpu = y.to(device)\n",
    "torch.cuda.synchronize()\n",
    "\n",
    "for i in range(3):\n",
    "    print(\">>>>>>>>>>>>>>>>> GPU SPEED <<<<<<<<<<<<<<<<<<<\")\n",
    "    start = time.time()\n",
    "    result_gpu = torch.matmul(x_gpu,y_gpu)\n",
    "    torch.cuda.synchronize()\n",
    "    print(time.time() - start)\n",
    "    print(\"varify device\", result_gpu.device)\n",
    "    \n",
    "gc.collect() \n",
    "torch.cuda.empty_cache()"
   ]
  },
  {
   "cell_type": "code",
   "execution_count": 3,
   "metadata": {},
   "outputs": [
    {
     "name": "stdout",
     "output_type": "stream",
     "text": [
      ">>>>>>>>>>>>>>>>> CPU SPEED <<<<<<<<<<<<<<<<<<<\n",
      "10.003520965576172\n",
      "varify device: cpu\n",
      ">>>>>>>>>>>>>>>>> GPU SPEED <<<<<<<<<<<<<<<<<<<\n",
      "1.1109404563903809\n",
      "varify device cuda:0\n",
      ">>>>>>>>>>>>>>>>> GPU SPEED <<<<<<<<<<<<<<<<<<<\n",
      "0.8940579891204834\n",
      "varify device cuda:0\n",
      ">>>>>>>>>>>>>>>>> GPU SPEED <<<<<<<<<<<<<<<<<<<\n",
      "0.754127025604248\n",
      "varify device cuda:0\n"
     ]
    }
   ],
   "source": [
    "matrix_size = 110*110\n",
    "x = torch.randn(matrix_size, matrix_size)\n",
    "y = torch.randn(matrix_size, matrix_size)\n",
    "\n",
    "print(\">>>>>>>>>>>>>>>>> CPU SPEED <<<<<<<<<<<<<<<<<<<\")\n",
    "start = time.time()\n",
    "result = torch.matmul(x,y)\n",
    "print(time.time() - start)\n",
    "print(\"varify device:\", result.device)\n",
    "\n",
    "x_gpu = x.to(device)\n",
    "y_gpu = y.to(device)\n",
    "torch.cuda.synchronize()\n",
    "\n",
    "for i in range(3):\n",
    "    print(\">>>>>>>>>>>>>>>>> GPU SPEED <<<<<<<<<<<<<<<<<<<\")\n",
    "    start = time.time()\n",
    "    result_gpu = torch.matmul(x_gpu,y_gpu)\n",
    "    torch.cuda.synchronize()\n",
    "    print(time.time() - start)\n",
    "    print(\"varify device\", result_gpu.device)\n",
    "    \n",
    "gc.collect() \n",
    "torch.cuda.empty_cache()"
   ]
  },
  {
   "cell_type": "code",
   "execution_count": 4,
   "metadata": {
    "scrolled": false
   },
   "outputs": [
    {
     "name": "stdout",
     "output_type": "stream",
     "text": [
      ">>>>>>>>>>>>>>>>> CPU SPEED <<<<<<<<<<<<<<<<<<<\n",
      "18.70887041091919\n",
      "varify device: cpu\n",
      ">>>>>>>>>>>>>>>>> GPU SPEED <<<<<<<<<<<<<<<<<<<\n",
      "1.5635526180267334\n",
      "varify device cuda:0\n",
      ">>>>>>>>>>>>>>>>> GPU SPEED <<<<<<<<<<<<<<<<<<<\n",
      "1.5270607471466064\n",
      "varify device cuda:0\n",
      ">>>>>>>>>>>>>>>>> GPU SPEED <<<<<<<<<<<<<<<<<<<\n",
      "1.477391242980957\n",
      "varify device cuda:0\n"
     ]
    }
   ],
   "source": [
    "matrix_size = 122*122\n",
    "x = torch.randn(matrix_size, matrix_size)\n",
    "y = torch.randn(matrix_size, matrix_size)\n",
    "\n",
    "print(\">>>>>>>>>>>>>>>>> CPU SPEED <<<<<<<<<<<<<<<<<<<\")\n",
    "start = time.time()\n",
    "result = torch.matmul(x,y)\n",
    "print(time.time() - start)\n",
    "print(\"varify device:\", result.device)\n",
    "\n",
    "x_gpu = x.to(device)\n",
    "y_gpu = y.to(device)\n",
    "torch.cuda.synchronize()\n",
    "\n",
    "for i in range(3):\n",
    "    print(\">>>>>>>>>>>>>>>>> GPU SPEED <<<<<<<<<<<<<<<<<<<\")\n",
    "    start = time.time()\n",
    "    result_gpu = torch.matmul(x_gpu,y_gpu)\n",
    "    torch.cuda.synchronize()\n",
    "    print(time.time() - start)\n",
    "    print(\"varify device\", result_gpu.device)\n",
    "    \n",
    "gc.collect() \n",
    "torch.cuda.empty_cache()"
   ]
  },
  {
   "cell_type": "code",
   "execution_count": 4,
   "metadata": {},
   "outputs": [
    {
     "name": "stdout",
     "output_type": "stream",
     "text": [
      "Ускорение вычислений для матриц 100x100 =  0.12\n"
     ]
    }
   ],
   "source": [
    "import numpy as np\n",
    "performance_cpu_100 = 5.211079359054565\n",
    "performance_gpu_100 = np.average([1.0781869888305664, 0.40787172317504883, 0.42394208908081055])\n",
    "\n",
    "acceleration_100 = performance_gpu_100 / performance_cpu_100\n",
    "print(\"Ускорение вычислений для матриц 100x100 = \", round(acceleration_100, 2))"
   ]
  },
  {
   "cell_type": "code",
   "execution_count": 9,
   "metadata": {},
   "outputs": [
    {
     "name": "stdout",
     "output_type": "stream",
     "text": [
      "Ускорение вычислений для матриц 110x110 =  0.09\n"
     ]
    }
   ],
   "source": [
    "import numpy as np\n",
    "performance_cpu_110 = 10.003520965576172\n",
    "performance_gpu_110 = np.average([1.1109404563903809, 0.8940579891204834, 0.754127025604248])\n",
    "\n",
    "acceleration_110 = performance_gpu_110 / performance_cpu_110\n",
    "print(\"Ускорение вычислений для матриц 110x110 = \", round(acceleration_110, 2))"
   ]
  },
  {
   "cell_type": "code",
   "execution_count": 7,
   "metadata": {},
   "outputs": [
    {
     "name": "stdout",
     "output_type": "stream",
     "text": [
      "Ускорение вычислений для матриц 122x122 =  0.08\n"
     ]
    }
   ],
   "source": [
    "import numpy as np\n",
    "performance_cpu_122 = 18.70887041091919\n",
    "performance_gpu_122 = np.average([1.5635526180267334, 1.5270607471466064, 1.477391242980957])\n",
    "\n",
    "acceleration_122 = performance_gpu_122 / performance_cpu_122\n",
    "print(\"Ускорение вычислений для матриц 122x122 = \", round(acceleration_122, 2))"
   ]
  }
 ],
 "metadata": {
  "kernelspec": {
   "display_name": "Python 3",
   "language": "python",
   "name": "python3"
  },
  "language_info": {
   "codemirror_mode": {
    "name": "ipython",
    "version": 3
   },
   "file_extension": ".py",
   "mimetype": "text/x-python",
   "name": "python",
   "nbconvert_exporter": "python",
   "pygments_lexer": "ipython3",
   "version": "3.8.3"
  }
 },
 "nbformat": 4,
 "nbformat_minor": 4
}
